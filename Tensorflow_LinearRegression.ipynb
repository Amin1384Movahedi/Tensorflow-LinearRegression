{
  "nbformat": 4,
  "nbformat_minor": 0,
  "metadata": {
    "colab": {
      "provenance": []
    },
    "kernelspec": {
      "name": "python3",
      "display_name": "Python 3"
    },
    "language_info": {
      "name": "python"
    }
  },
  "cells": [
    {
      "cell_type": "code",
      "execution_count": 2,
      "metadata": {
        "id": "WZ4sE2fHOq4p"
      },
      "outputs": [],
      "source": [
        "import tensorflow as tf\n",
        "import numpy as np\n",
        "import matplotlib.pyplot as plt"
      ]
    },
    {
      "cell_type": "code",
      "source": [
        "# Generate some random samples\n",
        "x = np.linspace(0, 4, 120)\n",
        "\n",
        "# Apply our random samples through a linear equation\n",
        "y = 2*x + 0.9 + np.random.randn(x.shape[0])"
      ],
      "metadata": {
        "id": "0Q3pZJIqO7O8"
      },
      "execution_count": 3,
      "outputs": []
    },
    {
      "cell_type": "code",
      "source": [
        "plt.scatter(x, y)\n",
        "plt.show()"
      ],
      "metadata": {
        "colab": {
          "base_uri": "https://localhost:8080/",
          "height": 430
        },
        "id": "ieC8CB_HPxVP",
        "outputId": "4799b4d9-4785-4941-916e-de61f555d2df"
      },
      "execution_count": 4,
      "outputs": [
        {
          "output_type": "display_data",
          "data": {
            "text/plain": [
              "<Figure size 640x480 with 1 Axes>"
            ],
            "image/png": "[encoded data removed]"
          },
          "metadata": {}
        }
      ]
    },
    {
      "cell_type": "code",
      "source": [
        "# Build our Linear Regression Model\n",
        "class LinearRegressionModel:\n",
        "    def __init__(self):\n",
        "      # Initializing our Weight and Bias Variables\n",
        "      self.Weight = tf.Variable(5.0)\n",
        "      self.Bias = tf.Variable(6.0)\n",
        "\n",
        "    def __call__(self, x):\n",
        "      return self.Weight * x + self.Bias"
      ],
      "metadata": {
        "id": "EbqTE1-HP0SM"
      },
      "execution_count": 5,
      "outputs": []
    },
    {
      "cell_type": "code",
      "source": [
        "# Creating our Loss Function (Least Squard Error)\n",
        "def Loss(y, y_pred):\n",
        "    return tf.reduce_mean(tf.square(y - y_pred))"
      ],
      "metadata": {
        "id": "HNAFTsTbQPvA"
      },
      "execution_count": 6,
      "outputs": []
    },
    {
      "cell_type": "code",
      "source": [
        "from tensorflow.python.ops.gen_nn_ops import lrn_eager_fallback\n",
        "# Now it's time to build our Train function\n",
        "def train(LinearModel, x, y, lr=0.12):\n",
        "    with tf.GradientTape() as t:\n",
        "        current_loss = Loss(y, LinearModel(x))\n",
        "\n",
        "    # Take Derivative with Gradient Tape\n",
        "    lr_weight, lr_bias = t.gradient(current_loss, [LinearModel.Weight, LinearModel.Bias])\n",
        "\n",
        "    # Applying the gradient on Weight and Bias\n",
        "    # previus_weight - (learning_rate * derivative)\n",
        "    # previus_bias - (learning_rate * derivative)\n",
        "    LinearModel.Weight.assign_sub(lr * lr_weight)\n",
        "    LinearModel.Bias.assign_sub(lr * lr_bias)"
      ],
      "metadata": {
        "id": "laCmcUsZQlV1"
      },
      "execution_count": 7,
      "outputs": []
    },
    {
      "cell_type": "code",
      "source": [
        "LinearModel = LinearRegressionModel()\n",
        "epochs = 100"
      ],
      "metadata": {
        "id": "e3PVTj7pSZJH"
      },
      "execution_count": 8,
      "outputs": []
    },
    {
      "cell_type": "code",
      "source": [
        "# Start Training Progress\n",
        "for epoch in range(epochs):\n",
        "    real_loss = Loss(y, LinearModel(x))\n",
        "    train(LinearModel, x, y)\n",
        "\n",
        "    print(f\"{epoch} - Loss: {real_loss.numpy()}\")"
      ],
      "metadata": {
        "colab": {
          "base_uri": "https://localhost:8080/"
        },
        "id": "EE8hxhrYSes1",
        "outputId": "9d5422b3-1731-441c-8062-eeea4f778a53"
      },
      "execution_count": 9,
      "outputs": [
        {
          "output_type": "stream",
          "name": "stdout",
          "text": [
            "0 - Loss: 136.08978271484375\n",
            "1 - Loss: 33.39589309692383\n",
            "2 - Loss: 10.24647331237793\n",
            "3 - Loss: 4.86837911605835\n",
            "4 - Loss: 3.4771816730499268\n",
            "5 - Loss: 2.99523663520813\n",
            "6 - Loss: 2.7338664531707764\n",
            "7 - Loss: 2.5375940799713135\n",
            "8 - Loss: 2.370091438293457\n",
            "9 - Loss: 2.22178316116333\n",
            "10 - Loss: 2.089212656021118\n",
            "11 - Loss: 1.9704264402389526\n",
            "12 - Loss: 1.8639274835586548\n",
            "13 - Loss: 1.7684307098388672\n",
            "14 - Loss: 1.6827964782714844\n",
            "15 - Loss: 1.6060051918029785\n",
            "16 - Loss: 1.5371439456939697\n",
            "17 - Loss: 1.4753934144973755\n",
            "18 - Loss: 1.4200197458267212\n",
            "19 - Loss: 1.3703643083572388\n",
            "20 - Loss: 1.325836181640625\n",
            "21 - Loss: 1.285906434059143\n",
            "22 - Loss: 1.2500996589660645\n",
            "23 - Loss: 1.2179908752441406\n",
            "24 - Loss: 1.1891975402832031\n",
            "25 - Loss: 1.1633776426315308\n",
            "26 - Loss: 1.140223741531372\n",
            "27 - Loss: 1.1194608211517334\n",
            "28 - Loss: 1.1008422374725342\n",
            "29 - Loss: 1.0841461420059204\n",
            "30 - Loss: 1.0691741704940796\n",
            "31 - Loss: 1.0557483434677124\n",
            "32 - Loss: 1.0437088012695312\n",
            "33 - Loss: 1.0329123735427856\n",
            "34 - Loss: 1.0232311487197876\n",
            "35 - Loss: 1.0145493745803833\n",
            "36 - Loss: 1.0067641735076904\n",
            "37 - Loss: 0.9997830986976624\n",
            "38 - Loss: 0.9935226440429688\n",
            "39 - Loss: 0.9879089593887329\n",
            "40 - Loss: 0.9828746914863586\n",
            "41 - Loss: 0.9783603549003601\n",
            "42 - Loss: 0.9743123650550842\n",
            "43 - Loss: 0.9706822037696838\n",
            "44 - Loss: 0.9674268960952759\n",
            "45 - Loss: 0.9645078182220459\n",
            "46 - Loss: 0.9618902206420898\n",
            "47 - Loss: 0.9595428705215454\n",
            "48 - Loss: 0.9574378728866577\n",
            "49 - Loss: 0.9555503129959106\n",
            "50 - Loss: 0.9538576602935791\n",
            "51 - Loss: 0.9523398280143738\n",
            "52 - Loss: 0.9509785771369934\n",
            "53 - Loss: 0.949757993221283\n",
            "54 - Loss: 0.9486635327339172\n",
            "55 - Loss: 0.9476820230484009\n",
            "56 - Loss: 0.9468019008636475\n",
            "57 - Loss: 0.9460124969482422\n",
            "58 - Loss: 0.9453048706054688\n",
            "59 - Loss: 0.9446702599525452\n",
            "60 - Loss: 0.944101095199585\n",
            "61 - Loss: 0.9435905814170837\n",
            "62 - Loss: 0.9431330561637878\n",
            "63 - Loss: 0.942722499370575\n",
            "64 - Loss: 0.9423545598983765\n",
            "65 - Loss: 0.9420244693756104\n",
            "66 - Loss: 0.9417285919189453\n",
            "67 - Loss: 0.9414631724357605\n",
            "68 - Loss: 0.9412252306938171\n",
            "69 - Loss: 0.9410117864608765\n",
            "70 - Loss: 0.9408204555511475\n",
            "71 - Loss: 0.9406489133834839\n",
            "72 - Loss: 0.9404950737953186\n",
            "73 - Loss: 0.940356969833374\n",
            "74 - Loss: 0.9402332305908203\n",
            "75 - Loss: 0.9401223659515381\n",
            "76 - Loss: 0.9400227665901184\n",
            "77 - Loss: 0.9399335980415344\n",
            "78 - Loss: 0.9398535490036011\n",
            "79 - Loss: 0.9397818446159363\n",
            "80 - Loss: 0.9397174119949341\n",
            "81 - Loss: 0.9396597743034363\n",
            "82 - Loss: 0.9396081566810608\n",
            "83 - Loss: 0.9395616054534912\n",
            "84 - Loss: 0.939520001411438\n",
            "85 - Loss: 0.9394826889038086\n",
            "86 - Loss: 0.9394491314888\n",
            "87 - Loss: 0.939419150352478\n",
            "88 - Loss: 0.9393923282623291\n",
            "89 - Loss: 0.9393681883811951\n",
            "90 - Loss: 0.9393466114997864\n",
            "91 - Loss: 0.9393271207809448\n",
            "92 - Loss: 0.9393097758293152\n",
            "93 - Loss: 0.939294159412384\n",
            "94 - Loss: 0.9392801523208618\n",
            "95 - Loss: 0.9392675757408142\n",
            "96 - Loss: 0.9392563700675964\n",
            "97 - Loss: 0.9392462968826294\n",
            "98 - Loss: 0.9392372369766235\n",
            "99 - Loss: 0.9392291307449341\n"
          ]
        }
      ]
    },
    {
      "cell_type": "code",
      "source": [
        "plt.scatter(x, y)\n",
        "plt.plot(x, LinearModel(x))\n",
        "plt.show()"
      ],
      "metadata": {
        "colab": {
          "base_uri": "https://localhost:8080/",
          "height": 430
        },
        "id": "ReN1dxiFS_Hl",
        "outputId": "6f7b9889-f1ba-476e-e667-4db8a35983b6"
      },
      "execution_count": 10,
      "outputs": [
        {
          "output_type": "display_data",
          "data": {
            "text/plain": [
              "<Figure size 640x480 with 1 Axes>"
            ],
            "image/png": "[encoded data removed]"
          },
          "metadata": {}
        }
      ]
    },
    {
      "cell_type": "code",
      "source": [],
      "metadata": {
        "id": "On706y1uTOc3"
      },
      "execution_count": null,
      "outputs": []
    }
  ]
}